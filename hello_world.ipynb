{
 "cells": [
  {
   "cell_type": "markdown",
   "id": "29e1de0b",
   "metadata": {},
   "source": [
    "If Statements:\n"
   ]
  },
  {
   "cell_type": "code",
   "execution_count": 9,
   "id": "b683cfd2",
   "metadata": {},
   "outputs": [
    {
     "name": "stdout",
     "output_type": "stream",
     "text": [
      "It's a hot day\n",
      "Enjoy your day\n",
      "It's a cold day\n",
      "Also enjoy your day\n"
     ]
    }
   ],
   "source": [
    "is_hot = True\n",
    "if is_hot:\n",
    "  print(\"It's a hot day\")\n",
    "else:\n",
    "  print(\"It's a cold day\")\n",
    "print(\"Enjoy your day\")\n",
    "\n",
    "is_hot = False\n",
    "if is_hot:\n",
    "  print(\"It's a hot day\")\n",
    "else:\n",
    "  print(\"It's a cold day\")\n",
    "print(\"Also enjoy your day\")"
   ]
  },
  {
   "cell_type": "code",
   "execution_count": 8,
   "id": "2a33a3fd",
   "metadata": {},
   "outputs": [
    {
     "name": "stdout",
     "output_type": "stream",
     "text": [
      "It's a hot day\n",
      "Drink plenty of water\n",
      "Enjoy your day\n"
     ]
    }
   ],
   "source": [
    "is_hot = True\n",
    "is_cold = False\n",
    "if is_hot:\n",
    "  print(\"It's a hot day\")\n",
    "  print(\"Drink plenty of water\")\n",
    "elif is_cold:\n",
    "  print(\"It's a cold day\")\n",
    "  print(\"Wear warm clothes\")\n",
    "else:\n",
    "  print(\"It's a lovely day\")\n",
    "print(\"Enjoy your day\")"
   ]
  }
 ],
 "metadata": {
  "kernelspec": {
   "display_name": ".venv",
   "language": "python",
   "name": "python3"
  },
  "language_info": {
   "codemirror_mode": {
    "name": "ipython",
    "version": 3
   },
   "file_extension": ".py",
   "mimetype": "text/x-python",
   "name": "python",
   "nbconvert_exporter": "python",
   "pygments_lexer": "ipython3",
   "version": "3.13.5"
  }
 },
 "nbformat": 4,
 "nbformat_minor": 5
}
