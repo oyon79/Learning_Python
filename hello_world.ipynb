{
 "cells": [
  {
   "cell_type": "markdown",
   "id": "29e1de0b",
   "metadata": {},
   "source": [
    "#### If Statements:\n"
   ]
  },
  {
   "cell_type": "code",
   "execution_count": 9,
   "id": "b683cfd2",
   "metadata": {},
   "outputs": [
    {
     "name": "stdout",
     "output_type": "stream",
     "text": [
      "It's a hot day\n",
      "Enjoy your day\n",
      "It's a cold day\n",
      "Also enjoy your day\n"
     ]
    }
   ],
   "source": [
    "is_hot = True\n",
    "if is_hot:\n",
    "  print(\"It's a hot day\")\n",
    "else:\n",
    "  print(\"It's a cold day\")\n",
    "print(\"Enjoy your day\")\n",
    "\n",
    "is_hot = False\n",
    "if is_hot:\n",
    "  print(\"It's a hot day\")\n",
    "else:\n",
    "  print(\"It's a cold day\")\n",
    "print(\"Also enjoy your day\")"
   ]
  },
  {
   "cell_type": "code",
   "execution_count": 1,
   "id": "2a33a3fd",
   "metadata": {},
   "outputs": [
    {
     "name": "stdout",
     "output_type": "stream",
     "text": [
      "It's a hot day\n",
      "Drink plenty of water\n",
      "Enjoy your day\n"
     ]
    }
   ],
   "source": [
    "is_hot = True\n",
    "is_cold = False\n",
    "if is_hot:\n",
    "  print(\"It's a hot day\")\n",
    "  print(\"Drink plenty of water\")\n",
    "elif is_cold:\n",
    "  print(\"It's a cold day\")\n",
    "  print(\"Wear warm clothes\")\n",
    "else:\n",
    "  print(\"It's a lovely day\")\n",
    "print(\"Enjoy your day\")"
   ]
  },
  {
   "cell_type": "code",
   "execution_count": 4,
   "id": "b36d1c0c",
   "metadata": {},
   "outputs": [
    {
     "name": "stdout",
     "output_type": "stream",
     "text": [
      "Down payment: $100000.0\n"
     ]
    }
   ],
   "source": [
    "price = 1000000\n",
    "has_good_credit = True\n",
    "if has_good_credit:\n",
    "  down_payment = 0.1 * price\n",
    "else:\n",
    "  down_payment = 0.2 * price\n",
    "print(f\"Down payment: ${down_payment}\")"
   ]
  },
  {
   "cell_type": "markdown",
   "id": "f338a2e6",
   "metadata": {},
   "source": [
    "#### Logical Operations"
   ]
  },
  {
   "cell_type": "markdown",
   "id": "0da058cd",
   "metadata": {},
   "source": [
    "##### If Applicant has high income And Good credit --> Eligible for loan\n",
    "##### If Applicant has high income Or Good credit --> Eligible for loan"
   ]
  },
  {
   "cell_type": "code",
   "execution_count": 14,
   "id": "c207f751",
   "metadata": {},
   "outputs": [
    {
     "name": "stdout",
     "output_type": "stream",
     "text": [
      "Eligible for loan\n",
      "Not eligible for loan\n"
     ]
    }
   ],
   "source": [
    "has_high_income = True\n",
    "has_good_credit = False\n",
    "if has_high_income and not has_good_credit:\n",
    "  print(\"Eligible for loan\")\n",
    "else:\n",
    "  print(\"Not eligible for loan\")\n",
    "\n",
    "has_high_income = False\n",
    "has_good_credit = False\n",
    "if has_high_income or has_good_credit:\n",
    "  print(\"Eligible for loan\")\n",
    "else:\n",
    "  print(\"Not eligible for loan\")"
   ]
  },
  {
   "cell_type": "markdown",
   "id": "50897d3b",
   "metadata": {},
   "source": [
    "#### Comparison Operators"
   ]
  },
  {
   "cell_type": "code",
   "execution_count": 23,
   "id": "798be5db",
   "metadata": {},
   "outputs": [
    {
     "name": "stdout",
     "output_type": "stream",
     "text": [
      "It's a cold day\n"
     ]
    }
   ],
   "source": [
    "temperature = 8\n",
    "if temperature >= 30:\n",
    "  print(\"It's a hot day\")\n",
    "elif temperature < 10:\n",
    "  print(\"It's a cold day\")\n",
    "elif temperature != 10:\n",
    "  print(\"It's a lovely day\")\n",
    "else:\n",
    "  print(\"It's not a hot day\")"
   ]
  },
  {
   "cell_type": "code",
   "execution_count": 27,
   "id": "0895c024",
   "metadata": {},
   "outputs": [
    {
     "name": "stdout",
     "output_type": "stream",
     "text": [
      "Name looks good!\n"
     ]
    }
   ],
   "source": [
    "name = \"Sahriar\"\n",
    "if len(name) < 3:\n",
    "  print(\"Name must be at least 3 characters.\")\n",
    "elif len(name) > 25:\n",
    "  print(\"Name must be a maximum of 50 characters.\")\n",
    "else:\n",
    "  print(\"Name looks good!\")"
   ]
  },
  {
   "cell_type": "markdown",
   "id": "e2f70b17",
   "metadata": {},
   "source": [
    "### Weight converter (kg to lbs, lbs to kg)"
   ]
  },
  {
   "cell_type": "code",
   "execution_count": 32,
   "id": "d3da9359",
   "metadata": {},
   "outputs": [
    {
     "name": "stdout",
     "output_type": "stream",
     "text": [
      "Weight in lbs: 160.0\n"
     ]
    }
   ],
   "source": [
    "weight = int (input(\"Weight: \"))\n",
    "unit = input(\"kg or lbs? \")\n",
    "if unit.lower() == \"lbs\":\n",
    "  kg_weight = float(weight) * 0.45\n",
    "  print(f\"Weight in kg: {kg_weight}\")\n",
    "elif unit.lower() == \"kg\":\n",
    "  lbs_weight = float(weight) / 0.45\n",
    "  print(f\"Weight in lbs: {lbs_weight}\")\n",
    "else:\n",
    "  print(\"Invalid unit. Please enter 'kg' or 'lbs'.\")"
   ]
  },
  {
   "cell_type": "markdown",
   "id": "a65d6791",
   "metadata": {},
   "source": [
    "### Loop"
   ]
  },
  {
   "cell_type": "code",
   "execution_count": 33,
   "id": "843a2cc0",
   "metadata": {},
   "outputs": [
    {
     "name": "stdout",
     "output_type": "stream",
     "text": [
      "1\n",
      "2\n",
      "3\n",
      "4\n",
      "5\n",
      "Done\n"
     ]
    }
   ],
   "source": [
    "i = 1\n",
    "while i <= 5:\n",
    "  print(i)\n",
    "  i += 1\n",
    "print(\"Done\") "
   ]
  },
  {
   "cell_type": "code",
   "execution_count": 38,
   "id": "6156eb87",
   "metadata": {},
   "outputs": [
    {
     "name": "stdout",
     "output_type": "stream",
     "text": [
      "* * * * * \n",
      "* * * * \n",
      "* * * \n",
      "* * \n",
      "* \n",
      "Done\n",
      "* \n",
      "* * \n",
      "* * * \n",
      "* * * * \n",
      "* * * * * \n",
      "Done\n"
     ]
    }
   ],
   "source": [
    "i = 5\n",
    "while i >= 1:\n",
    "  print('* ' * i)\n",
    "  i -= 1\n",
    "print(\"Done\") \n",
    "\n",
    "i = 1\n",
    "while i <= 5:\n",
    "  print('* ' * i)\n",
    "  i += 1\n",
    "print(\"Done\")"
   ]
  },
  {
   "cell_type": "markdown",
   "id": "4120080b",
   "metadata": {},
   "source": [
    "#### For loops"
   ]
  },
  {
   "cell_type": "code",
   "execution_count": 10,
   "id": "97396107",
   "metadata": {},
   "outputs": [
    {
     "name": "stdout",
     "output_type": "stream",
     "text": [
      "P\n",
      "y\n",
      "t\n",
      "h\n",
      "o\n",
      "n\n",
      "5\n",
      "7\n",
      "9\n"
     ]
    }
   ],
   "source": [
    "for item in 'Python':\n",
    "  print(item)\n",
    "\n",
    "for item in range (5,10,2):\n",
    "  print(item)"
   ]
  },
  {
   "cell_type": "code",
   "execution_count": 11,
   "id": "7de87249",
   "metadata": {},
   "outputs": [
    {
     "name": "stdout",
     "output_type": "stream",
     "text": [
      "Total: 150\n"
     ]
    }
   ],
   "source": [
    "prices = [10, 20, 30, 40, 50]\n",
    "\n",
    "total = 0\n",
    "for price in prices:\n",
    "  total += price\n",
    "print(f\"Total: {total}\")"
   ]
  },
  {
   "cell_type": "markdown",
   "id": "f3cd378c",
   "metadata": {},
   "source": [
    "#### Nested Loop"
   ]
  },
  {
   "cell_type": "code",
   "execution_count": 12,
   "id": "08c2870b",
   "metadata": {},
   "outputs": [
    {
     "name": "stdout",
     "output_type": "stream",
     "text": [
      "(0,0)\n",
      "(0,1)\n",
      "(0,2)\n",
      "(1,0)\n",
      "(1,1)\n",
      "(1,2)\n",
      "(2,0)\n",
      "(2,1)\n",
      "(2,2)\n",
      "(3,0)\n",
      "(3,1)\n",
      "(3,2)\n"
     ]
    }
   ],
   "source": [
    "for x in range(4):\n",
    "  for y in range(3):\n",
    "    print(f\"({x},{y})\")"
   ]
  },
  {
   "cell_type": "code",
   "execution_count": null,
   "id": "0c0ebdb9",
   "metadata": {},
   "outputs": [
    {
     "name": "stdout",
     "output_type": "stream",
     "text": [
      "XXXXX\n",
      "XX\n",
      "XXXXX\n",
      "XX\n",
      "XX\n"
     ]
    }
   ],
   "source": [
    "### F shape\n",
    "numbers = [5, 2, 5, 2, 2]\n",
    "\n",
    "for x in numbers:\n",
    "    print('X' * x)"
   ]
  },
  {
   "cell_type": "markdown",
   "id": "91ba330c",
   "metadata": {},
   "source": [
    "### List"
   ]
  },
  {
   "cell_type": "markdown",
   "id": "cd155a23",
   "metadata": {},
   "source": [
    "#### Write a program to find the largest number in a list :"
   ]
  },
  {
   "cell_type": "code",
   "execution_count": null,
   "id": "bcf6d273",
   "metadata": {},
   "outputs": [
    {
     "name": "stdout",
     "output_type": "stream",
     "text": [
      "Largest number: 9\n"
     ]
    }
   ],
   "source": [
    "numbers = [1, 2, 4, 5, 6, 9, 8, 7, 10]\n",
    "max = numbers[0]\n",
    "for number in numbers:\n",
    "  if number > max:\n",
    "    max = number\n",
    "print(f\"Largest number: {max}\")"
   ]
  },
  {
   "cell_type": "code",
   "execution_count": 23,
   "id": "e5c0e7da",
   "metadata": {},
   "outputs": [
    {
     "name": "stdout",
     "output_type": "stream",
     "text": [
      "1\n",
      "2\n",
      "3\n",
      "4\n",
      "5\n",
      "6\n",
      "7\n",
      "8\n",
      "9\n"
     ]
    }
   ],
   "source": [
    "Matrix = [\n",
    "    [1, 2, 3],\n",
    "    [4, 5, 6],\n",
    "    [7, 8, 9]\n",
    "]\n",
    "for row in Matrix:\n",
    "  for item in row:\n",
    "    print(item)\n",
    "    "
   ]
  }
 ],
 "metadata": {
  "kernelspec": {
   "display_name": ".venv",
   "language": "python",
   "name": "python3"
  },
  "language_info": {
   "codemirror_mode": {
    "name": "ipython",
    "version": 3
   },
   "file_extension": ".py",
   "mimetype": "text/x-python",
   "name": "python",
   "nbconvert_exporter": "python",
   "pygments_lexer": "ipython3",
   "version": "3.13.5"
  }
 },
 "nbformat": 4,
 "nbformat_minor": 5
}
