{
 "cells": [
  {
   "cell_type": "markdown",
   "id": "29e1de0b",
   "metadata": {},
   "source": [
    "#### If Statements:\n"
   ]
  },
  {
   "cell_type": "code",
   "execution_count": 9,
   "id": "b683cfd2",
   "metadata": {},
   "outputs": [
    {
     "name": "stdout",
     "output_type": "stream",
     "text": [
      "It's a hot day\n",
      "Enjoy your day\n",
      "It's a cold day\n",
      "Also enjoy your day\n"
     ]
    }
   ],
   "source": [
    "is_hot = True\n",
    "if is_hot:\n",
    "  print(\"It's a hot day\")\n",
    "else:\n",
    "  print(\"It's a cold day\")\n",
    "print(\"Enjoy your day\")\n",
    "\n",
    "is_hot = False\n",
    "if is_hot:\n",
    "  print(\"It's a hot day\")\n",
    "else:\n",
    "  print(\"It's a cold day\")\n",
    "print(\"Also enjoy your day\")"
   ]
  },
  {
   "cell_type": "code",
   "execution_count": 1,
   "id": "2a33a3fd",
   "metadata": {},
   "outputs": [
    {
     "name": "stdout",
     "output_type": "stream",
     "text": [
      "It's a hot day\n",
      "Drink plenty of water\n",
      "Enjoy your day\n"
     ]
    }
   ],
   "source": [
    "is_hot = True\n",
    "is_cold = False\n",
    "if is_hot:\n",
    "  print(\"It's a hot day\")\n",
    "  print(\"Drink plenty of water\")\n",
    "elif is_cold:\n",
    "  print(\"It's a cold day\")\n",
    "  print(\"Wear warm clothes\")\n",
    "else:\n",
    "  print(\"It's a lovely day\")\n",
    "print(\"Enjoy your day\")"
   ]
  },
  {
   "cell_type": "code",
   "execution_count": 4,
   "id": "b36d1c0c",
   "metadata": {},
   "outputs": [
    {
     "name": "stdout",
     "output_type": "stream",
     "text": [
      "Down payment: $100000.0\n"
     ]
    }
   ],
   "source": [
    "price = 1000000\n",
    "has_good_credit = True\n",
    "if has_good_credit:\n",
    "  down_payment = 0.1 * price\n",
    "else:\n",
    "  down_payment = 0.2 * price\n",
    "print(f\"Down payment: ${down_payment}\")"
   ]
  },
  {
   "cell_type": "markdown",
   "id": "f338a2e6",
   "metadata": {},
   "source": [
    "#### Logical Operations"
   ]
  },
  {
   "cell_type": "markdown",
   "id": "0da058cd",
   "metadata": {},
   "source": [
    "##### If Applicant has high income And Good credit --> Eligible for loan\n",
    "##### If Applicant has high income Or Good credit --> Eligible for loan"
   ]
  },
  {
   "cell_type": "code",
   "execution_count": 14,
   "id": "c207f751",
   "metadata": {},
   "outputs": [
    {
     "name": "stdout",
     "output_type": "stream",
     "text": [
      "Eligible for loan\n",
      "Not eligible for loan\n"
     ]
    }
   ],
   "source": [
    "has_high_income = True\n",
    "has_good_credit = False\n",
    "if has_high_income and not has_good_credit:\n",
    "  print(\"Eligible for loan\")\n",
    "else:\n",
    "  print(\"Not eligible for loan\")\n",
    "\n",
    "has_high_income = False\n",
    "has_good_credit = False\n",
    "if has_high_income or has_good_credit:\n",
    "  print(\"Eligible for loan\")\n",
    "else:\n",
    "  print(\"Not eligible for loan\")"
   ]
  },
  {
   "cell_type": "markdown",
   "id": "50897d3b",
   "metadata": {},
   "source": [
    "#### Comparison Operators"
   ]
  },
  {
   "cell_type": "code",
   "execution_count": 23,
   "id": "798be5db",
   "metadata": {},
   "outputs": [
    {
     "name": "stdout",
     "output_type": "stream",
     "text": [
      "It's a cold day\n"
     ]
    }
   ],
   "source": [
    "temperature = 8\n",
    "if temperature >= 30:\n",
    "  print(\"It's a hot day\")\n",
    "elif temperature < 10:\n",
    "  print(\"It's a cold day\")\n",
    "elif temperature != 10:\n",
    "  print(\"It's a lovely day\")\n",
    "else:\n",
    "  print(\"It's not a hot day\")"
   ]
  },
  {
   "cell_type": "code",
   "execution_count": 27,
   "id": "0895c024",
   "metadata": {},
   "outputs": [
    {
     "name": "stdout",
     "output_type": "stream",
     "text": [
      "Name looks good!\n"
     ]
    }
   ],
   "source": [
    "name = \"Sahriar\"\n",
    "if len(name) < 3:\n",
    "  print(\"Name must be at least 3 characters.\")\n",
    "elif len(name) > 25:\n",
    "  print(\"Name must be a maximum of 50 characters.\")\n",
    "else:\n",
    "  print(\"Name looks good!\")"
   ]
  },
  {
   "cell_type": "markdown",
   "id": "e2f70b17",
   "metadata": {},
   "source": [
    "### Weight converter (kg to lbs, lbs to kg)"
   ]
  },
  {
   "cell_type": "code",
   "execution_count": 32,
   "id": "d3da9359",
   "metadata": {},
   "outputs": [
    {
     "name": "stdout",
     "output_type": "stream",
     "text": [
      "Weight in lbs: 160.0\n"
     ]
    }
   ],
   "source": [
    "weight = int (input(\"Weight: \"))\n",
    "unit = input(\"kg or lbs? \")\n",
    "if unit.lower() == \"lbs\":\n",
    "  kg_weight = float(weight) * 0.45\n",
    "  print(f\"Weight in kg: {kg_weight}\")\n",
    "elif unit.lower() == \"kg\":\n",
    "  lbs_weight = float(weight) / 0.45\n",
    "  print(f\"Weight in lbs: {lbs_weight}\")\n",
    "else:\n",
    "  print(\"Invalid unit. Please enter 'kg' or 'lbs'.\")"
   ]
  },
  {
   "cell_type": "markdown",
   "id": "a65d6791",
   "metadata": {},
   "source": [
    "### Loop"
   ]
  },
  {
   "cell_type": "code",
   "execution_count": 33,
   "id": "843a2cc0",
   "metadata": {},
   "outputs": [
    {
     "name": "stdout",
     "output_type": "stream",
     "text": [
      "1\n",
      "2\n",
      "3\n",
      "4\n",
      "5\n",
      "Done\n"
     ]
    }
   ],
   "source": [
    "i = 1\n",
    "while i <= 5:\n",
    "  print(i)\n",
    "  i += 1\n",
    "print(\"Done\") "
   ]
  },
  {
   "cell_type": "code",
   "execution_count": 38,
   "id": "6156eb87",
   "metadata": {},
   "outputs": [
    {
     "name": "stdout",
     "output_type": "stream",
     "text": [
      "* * * * * \n",
      "* * * * \n",
      "* * * \n",
      "* * \n",
      "* \n",
      "Done\n",
      "* \n",
      "* * \n",
      "* * * \n",
      "* * * * \n",
      "* * * * * \n",
      "Done\n"
     ]
    }
   ],
   "source": [
    "i = 5\n",
    "while i >= 1:\n",
    "  print('* ' * i)\n",
    "  i -= 1\n",
    "print(\"Done\") \n",
    "\n",
    "i = 1\n",
    "while i <= 5:\n",
    "  print('* ' * i)\n",
    "  i += 1\n",
    "print(\"Done\")"
   ]
  }
 ],
 "metadata": {
  "kernelspec": {
   "display_name": ".venv",
   "language": "python",
   "name": "python3"
  },
  "language_info": {
   "codemirror_mode": {
    "name": "ipython",
    "version": 3
   },
   "file_extension": ".py",
   "mimetype": "text/x-python",
   "name": "python",
   "nbconvert_exporter": "python",
   "pygments_lexer": "ipython3",
   "version": "3.13.5"
  }
 },
 "nbformat": 4,
 "nbformat_minor": 5
}
